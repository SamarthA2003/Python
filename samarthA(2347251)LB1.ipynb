{
 "cells": [
  {
   "cell_type": "code",
   "execution_count": 2,
   "metadata": {},
   "outputs": [
    {
     "name": "stdout",
     "output_type": "stream",
     "text": [
      "The number of times word repeated is:  1\n"
     ]
    }
   ],
   "source": [
    "''' Write a paragraph about introducing you and your selected domain (include Full Name, domain name, register number, year …….).\n",
    "Write a python program to count the frequency of any specific word (in your domain) in the paragraph.'''\n",
    "hospitalmanage = \"Myself Samarth A, I have Choosed Hospital Management System, 2347251, 2023\"\n",
    "'''Convert the paragraph to lowercase to make the search case-insensitive'''\n",
    "hospitalmanage_lower = hospitalmanage.lower()\n",
    "\n",
    "'''define the word to be counted'''\n",
    "word_to_count = \"hospital\"\n",
    "\n",
    "'''Split the paragraph into words'''\n",
    "words =hospitalmanage_lower.split()\n",
    "\n",
    "'''initialize a variable to store the count'''\n",
    "word_count = 0\n",
    "\n",
    "'''loop through the words and count the occurrences of the specific word'''\n",
    "for word in words:\n",
    "    if word == word_to_count:\n",
    "        word_count += 1\n",
    "print(\"The number of times word repeated is: \",word_count)"
   ]
  },
  {
   "cell_type": "code",
   "execution_count": 3,
   "metadata": {},
   "outputs": [
    {
     "name": "stdout",
     "output_type": "stream",
     "text": [
      "{'tuple', 'dict', 'str'}\n"
     ]
    }
   ],
   "source": [
    "#program to display all the datatypes of selected specific elements in the paragraph.\n",
    "def get_data_types_in_list(input_list):\n",
    "    # Create an empty set to store the data types of elements in the list\n",
    "    data_types = set()\n",
    "    #Iterating through each element in the input_list through each element item in the input_list\n",
    "    for item in input_list:\n",
    "        '''The type() function returns the type of an object as a class object.\n",
    "        The __name__ attribute of the class object gives the name of the type as a string.'''\n",
    "        data_types.add(type(item).__name__)\n",
    "    return data_types\n",
    "hospital_lst = [\"Myself Samarth A, I have Choosed Hospital Management System, 2347251, 2023\",{1:\"Doctorid, 2:doctorname\"},(\"doctorname\",\"doctorid\")]\n",
    "# Calling the get_data_types_in_list function\n",
    "result = get_data_types_in_list(hospital_lst)\n",
    "print(result)"
   ]
  },
  {
   "cell_type": "code",
   "execution_count": 4,
   "metadata": {},
   "outputs": [
    {
     "name": "stdout",
     "output_type": "stream",
     "text": [
      "Number of Digits:  3\n",
      "Number of Alphabets is:  15\n"
     ]
    }
   ],
   "source": [
    "'''Write a python program to count the number of alphabets, numeric and other special symbols in the paragraph'''\n",
    "alpha = 0\n",
    "hospitalmanage = \"FortisBangalore234\"\n",
    "for i in hospitalmanage:\n",
    "    if (i.isalpha()):\n",
    "        alpha +=1\n",
    "print(\"Number of Digits: \",len(hospitalmanage)-alpha)\n",
    "print(\"Number of Alphabets is: \",alpha)"
   ]
  },
  {
   "cell_type": "code",
   "execution_count": 5,
   "metadata": {},
   "outputs": [
    {
     "name": "stdout",
     "output_type": "stream",
     "text": [
      "{False, True, 'hospitals', 'nurseid', 'nursename', 76.65, 'doctorname', 'hospitalname', 90, 'doctorid', 'patientid', 1001, 1002, 'Fortis', 'staffid', 'Medicine', 'patientname', 75000.0}\n",
      "After removing the elements from set: {False, True, 'hospitals', 'nurseid', 'nursename', 76.65, 'doctorname', 'hospitalname', 90, 'doctorid', 'patientid', 1001, 1002, 'staffid', 'Medicine', 'patientname', 75000.0}\n",
      "After pop elements from set: {True, 'hospitals', 'nurseid', 'nursename', 76.65, 'doctorname', 'hospitalname', 90, 'doctorid', 'patientid', 1001, 1002, 'staffid', 'Medicine', 'patientname', 75000.0}\n",
      "After discard elements from set:  {True, 'hospitals', 'nurseid', 'nursename', 76.65, 'doctorname', 90, 'doctorid', 'patientid', 1001, 1002, 'staffid', 'Medicine', 'patientname', 75000.0}\n",
      "After removing the elements from set: set()\n"
     ]
    }
   ],
   "source": [
    "#creating a set\n",
    "hospital = {\"hospitals\",\"hospitalname\",\"Fortis\",\"Medicine\",\"doctorname\",\"doctorid\",\"nurseid\",\"nursename\",\"staffid\",\"staffid\",\"patientid\",\"patientname\",76.65,75000.00,90,1001,1002,True,False}\n",
    "print(hospital)\n",
    "\n",
    "'''remove method\n",
    "performing the remove() so that we can remove the elements in set that we are desired to remove the from the set'''\n",
    "hospital.remove(\"Fortis\")\n",
    "print(\"After removing the elements from set:\",hospital)\n",
    "\n",
    "'''performing pop() operation where it will remove the elements of set randomly'''\n",
    "hospital.pop()\n",
    "print(\"After pop elements from set:\",hospital)\n",
    "\n",
    "'''discard method\n",
    "performing the discard() it works same as remove()'''\n",
    "hospital.discard(\"hospitalname\")\n",
    "print(\"After discard elements from set: \",hospital)\n",
    "\n",
    "'''clear method \n",
    "performing the clear() so it works i sense that it will remove element from set and make set as empty'''\n",
    "hospital.clear()\n",
    "print(\"After removing the elements from set:\",hospital)"
   ]
  },
  {
   "cell_type": "code",
   "execution_count": 6,
   "metadata": {},
   "outputs": [
    {
     "name": "stdout",
     "output_type": "stream",
     "text": [
      "After updating:  {False, True, 'hospitals', 'Receptionist', 'nurseid', 'nursename', 76.65, 'doctorname', 'hospitalname', 'Lab Technician', 90, 'departments', 'Nurse', 'doctorid', 'patientid', 1001, 1002, 'Fortis', 'staffid', 'Ambulance', 'Medicine', 'patientname', 75000.0}\n"
     ]
    }
   ],
   "source": [
    "'''Update() Updating the set by merging the two sets by using update() so that it is easy for merging two sets in one set'''\n",
    "hospital = {\"hospitals\",\"hospitalname\",\"Fortis\",\"Medicine\",\"doctorname\",\"doctorid\",\"nurseid\",\"nursename\",\"staffid\",\"staffid\",\"patientid\",\"patientname\",76.65,75000.00,90,1001,1002,True,False}\n",
    "hospital1={\"departments\",\"Ambulance\",\"Lab Technician\", \"Receptionist\",\"Nurse\"}\n",
    "hospital.update(hospital1)\n",
    "print(\"After updating: \",hospital)"
   ]
  },
  {
   "cell_type": "code",
   "execution_count": 7,
   "metadata": {},
   "outputs": [
    {
     "name": "stdout",
     "output_type": "stream",
     "text": [
      "Initial Set: {'Doctorname', 'doctorid', 'hospitalname', 'nurseid', 'hospitalid'}\n",
      "Sorted Set (Descending Order): ['nurseid', 'hospitalname', 'hospitalid', 'doctorid', 'Doctorname']\n"
     ]
    }
   ],
   "source": [
    "#sorting the set\n",
    "def set_reversing():\n",
    "    string_set = {\"hospitalname\", \"hospitalid\", \"Doctorname\", \"doctorid\", \"nurseid\"}\n",
    "    print(\"Initial Set:\", string_set)\n",
    "    sorted_set = sorted(string_set, reverse=True)\n",
    "    print(\"Sorted Set (Descending Order):\", sorted_set)\n",
    "set_reversing()"
   ]
  },
  {
   "cell_type": "code",
   "execution_count": 8,
   "metadata": {},
   "outputs": [
    {
     "name": "stdout",
     "output_type": "stream",
     "text": [
      "10000\n",
      "Fortis\n",
      "Bangalore\n",
      "Dr.Nirmal\n",
      "Antony\n"
     ]
    }
   ],
   "source": [
    "#tuple\n",
    "'''creating a tuple with packing tuple values'''\n",
    "hospitaltuple=(10000,\"Fortis\",\"Bangalore\",\"Dr.Nirmal\",\"Antony\")\n",
    "'''creating a tuple with unpacking tuple values'''\n",
    "(id,hospitalname,place,doctorname,nursename) = hospitaltuple\n",
    "'''printing the values of unpacking tuple values'''\n",
    "print(id)\n",
    "print(hospitalname)\n",
    "print(place)\n",
    "print(doctorname)\n",
    "print(nursename)"
   ]
  },
  {
   "cell_type": "code",
   "execution_count": 9,
   "metadata": {},
   "outputs": [
    {
     "name": "stdout",
     "output_type": "stream",
     "text": [
      "count of 'f' = 1\n",
      "count of 'o' = 1\n",
      "count of 'r' = 2\n",
      "count of 't' = 1\n",
      "count of 'i' = 1\n",
      "count of 's' = 1\n",
      "count of 'b' = 1\n",
      "count of 'a' = 2\n",
      "count of 'n' = 1\n",
      "count of 'g' = 1\n",
      "count of 'l' = 1\n",
      "count of 'u' = 2\n"
     ]
    }
   ],
   "source": [
    "'''counting the characters that are repeated'''\n",
    "hospitaltuple1=(\"f\",\"o\",\"r\",\"t\",\"i\",\"s\",\"b\",\"a\",\"n\",\"g\",\"a\",\"l\",\"u\",\"r\",\"u\")\n",
    "char_count = {}\n",
    "\n",
    "'''Looping through the hospitaltuple1 and count the characters that are repeated'''\n",
    "for char in hospitaltuple1:\n",
    "    char_count[char] = char_count.get(char, 0) + 1\n",
    "\n",
    "'''Printing the characters repeated characters count'''\n",
    "for char, count in char_count.items():\n",
    "    print(f\"count of '{char}' = {count}\")"
   ]
  },
  {
   "cell_type": "code",
   "execution_count": 10,
   "metadata": {},
   "outputs": [
    {
     "name": "stdout",
     "output_type": "stream",
     "text": [
      "('f',)\n",
      "('f', 'o', 'r', 't', 'i', 's', 'b', 'a', 'n', 'g')\n",
      "('s', 'b', 'a', 'n')\n",
      "('n', 'g', 'a', 'l', 'u', 'r', 'u', 'D', 'r', 'N', 'i', 'r', 'm', 'a', 'l')\n",
      "('l', 'u', 'r')\n",
      "('i', 'l', 'i')\n",
      "('fortis', 'bangalore', 'Dr.Nirmal', 'Antonny')\n",
      "('fortis', 'bangalore', 'Dr.Nirmal', 'Antonny')\n",
      "('fortis', 'bangalore', 'Dr.Nirmal', 'Antonny')\n",
      "('fortis', 'bangalore', 'Dr.Nirmal', 'Antonny')\n",
      "('Antonny',)\n",
      "('Antonny', 'Dr.Nirmal', 'bangalore', 'fortis')\n"
     ]
    }
   ],
   "source": [
    "'''slicing the index of the hospitaltuple1 using the seperate word format'''\n",
    "hospitaltuple1=(\"f\",\"o\",\"r\",\"t\",\"i\",\"s\",\"b\",\"a\",\"n\",\"g\",\"a\",\"l\",\"u\",\"r\",\"u\",\"D\",\"r\",\"N\",\"i\",\"r\",\"m\",\"a\",\"l\")\n",
    "print(hospitaltuple1[0:1])\n",
    "print(hospitaltuple1[:10])\n",
    "print(hospitaltuple1[5:9])\n",
    "print(hospitaltuple1[8:])\n",
    "print(hospitaltuple1[-1::-10])\n",
    "print(hospitaltuple1[-5::-7])\n",
    "'''slicing the index of the hospitaltuple1 in the word format '''\n",
    "hospitaltuple1=(\"fortis\",\"bangalore\",\"Dr.Nirmal\",\"Antonny\")\n",
    "print(hospitaltuple1[0:4])\n",
    "print(hospitaltuple1[0:])\n",
    "print(hospitaltuple1[:5])\n",
    "print(hospitaltuple1[0:5])\n",
    "print(hospitaltuple1[::-4])\n",
    "print(hospitaltuple1[::-1])"
   ]
  }
 ],
 "metadata": {
  "kernelspec": {
   "display_name": "Python 3",
   "language": "python",
   "name": "python3"
  },
  "language_info": {
   "codemirror_mode": {
    "name": "ipython",
    "version": 3
   },
   "file_extension": ".py",
   "mimetype": "text/x-python",
   "name": "python",
   "nbconvert_exporter": "python",
   "pygments_lexer": "ipython3",
   "version": "3.11.1"
  },
  "orig_nbformat": 4
 },
 "nbformat": 4,
 "nbformat_minor": 2
}
