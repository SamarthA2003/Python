{
  "nbformat": 4,
  "nbformat_minor": 0,
  "metadata": {
    "colab": {
      "provenance": []
    },
    "kernelspec": {
      "name": "python3",
      "display_name": "Python 3"
    },
    "language_info": {
      "name": "python"
    }
  },
  "cells": [
    {
      "cell_type": "code",
      "execution_count": 4,
      "metadata": {
        "colab": {
          "base_uri": "https://localhost:8080/"
        },
        "id": "4RxfbrzZZJvL",
        "outputId": "1db9cfb3-6306-4906-8463-2414332a0dcf"
      },
      "outputs": [
        {
          "output_type": "stream",
          "name": "stdout",
          "text": [
            "Array Indexing\n",
            "50\n",
            "Fancy Indexing\n",
            "[30 50 60]\n"
          ]
        }
      ],
      "source": [
        "#Write a program to distinguish between Array Indexing and Fancy Indexing\n",
        "\n",
        "import numpy as np\n",
        "arr = np.array([10,20,30,40,50,60])\n",
        "print(\"Array Indexing\")\n",
        "print( arr[4])\n",
        "fancy = np.array([2,4,5])\n",
        "print(\"Fancy Indexing\")\n",
        "print(arr[fancy])"
      ]
    },
    {
      "cell_type": "code",
      "source": [
        "#Execute the 2D array Slicing\n",
        "\n",
        "import numpy as np\n",
        "arr = np.array([[1,2,3,4,5],[6,7,8,9,10]])\n",
        "print(\"The Original Array: \")\n",
        "print(arr)\n",
        "print(\"2D array slicing array are: \")\n",
        "print(arr[0:1, 3:4])\n",
        "print(arr[::-2, ::-1])"
      ],
      "metadata": {
        "colab": {
          "base_uri": "https://localhost:8080/"
        },
        "id": "eROKPJh9aQIH",
        "outputId": "476f274d-7dbd-4a5e-e527-131076bccf0a"
      },
      "execution_count": 11,
      "outputs": [
        {
          "output_type": "stream",
          "name": "stdout",
          "text": [
            "The Original Array: \n",
            "[[ 1  2  3  4  5]\n",
            " [ 6  7  8  9 10]]\n",
            "2D array slicing array are: \n",
            "[[4]]\n",
            "[[10  9  8  7  6]]\n"
          ]
        }
      ]
    },
    {
      "cell_type": "code",
      "source": [
        "#Create the 5-Dimensional arrays using ‘ndmin’\n",
        "\n",
        "import numpy as np\n",
        "arr = np.array([10,20,30,40,50], ndmin=5)\n",
        "print(arr)"
      ],
      "metadata": {
        "colab": {
          "base_uri": "https://localhost:8080/"
        },
        "id": "Tz6zMoZvcZVj",
        "outputId": "397829d6-1897-4072-8be7-4e1f01e86fb6"
      },
      "execution_count": 12,
      "outputs": [
        {
          "output_type": "stream",
          "name": "stdout",
          "text": [
            "[[[[[10 20 30 40 50]]]]]\n"
          ]
        }
      ]
    },
    {
      "cell_type": "code",
      "source": [
        "#Reshape the array from 1-D to 2-D array\n",
        "\n",
        "import numpy as np\n",
        "arr = np.array([10,20,30,40,50,60,70,80,90,100])\n",
        "print(arr.reshape(2,5))"
      ],
      "metadata": {
        "colab": {
          "base_uri": "https://localhost:8080/"
        },
        "id": "NxTwZdKRcwzW",
        "outputId": "744facbf-3a42-4a89-cf56-131a9be9c222"
      },
      "execution_count": 13,
      "outputs": [
        {
          "output_type": "stream",
          "name": "stdout",
          "text": [
            "[[ 10  20  30  40  50]\n",
            " [ 60  70  80  90 100]]\n"
          ]
        }
      ]
    },
    {
      "cell_type": "code",
      "source": [
        "#Perform the Stack functions in Numpy arrays – Stack(), hstack(), vstack(), and dstack()\n",
        "\n",
        "import numpy as np\n",
        "arr1 = np.array([10,20,30,40,50])\n",
        "arr2 = np.array([60,70,80,90,100])\n",
        "\n",
        "stack = np.stack((arr1, arr2))\n",
        "print(\"The stack() array is: \\n\",stack)\n",
        "\n",
        "hstack = np.hstack((arr1, arr2))\n",
        "print(\"\\nThe hstack() array is: \\n\",hstack)\n",
        "\n",
        "vstack = np.vstack((arr1, arr2))\n",
        "print(\"\\nThe vstack() array is: \\n\",vstack)\n",
        "\n",
        "dstack = np.dstack((arr1,arr2))\n",
        "print(\"\\nThe dstack array is: \\n\",dstack)\n"
      ],
      "metadata": {
        "colab": {
          "base_uri": "https://localhost:8080/"
        },
        "id": "qiUpYLc1dMG7",
        "outputId": "b30dfb83-4138-4191-9f32-c3962bee6933"
      },
      "execution_count": 15,
      "outputs": [
        {
          "output_type": "stream",
          "name": "stdout",
          "text": [
            "The stack() array is: \n",
            " [[ 10  20  30  40  50]\n",
            " [ 60  70  80  90 100]]\n",
            "\n",
            "The hstack() array is: \n",
            " [ 10  20  30  40  50  60  70  80  90 100]\n",
            "\n",
            "The vstack() array is: \n",
            " [[ 10  20  30  40  50]\n",
            " [ 60  70  80  90 100]]\n",
            "\n",
            "The dstack array is: \n",
            " [[[ 10  60]\n",
            "  [ 20  70]\n",
            "  [ 30  80]\n",
            "  [ 40  90]\n",
            "  [ 50 100]]]\n"
          ]
        }
      ]
    },
    {
      "cell_type": "code",
      "source": [
        "#Perform the searchsort method in Numpy array\n",
        "\n",
        "import numpy as np\n",
        "arr = np.array([10,20,50,40,30])\n",
        "n = 10\n",
        "search = np.searchsorted(arr, n)\n",
        "print(search)"
      ],
      "metadata": {
        "colab": {
          "base_uri": "https://localhost:8080/"
        },
        "id": "H0juF7eOeqbr",
        "outputId": "0ef43244-aa74-4087-b11e-03485d693750"
      },
      "execution_count": 24,
      "outputs": [
        {
          "output_type": "stream",
          "name": "stdout",
          "text": [
            "0\n"
          ]
        }
      ]
    },
    {
      "cell_type": "code",
      "source": [
        "#Create Numpy Structured array using your domain features\n",
        "\n",
        "import numpy as np\n",
        "\n",
        "patient_dtype = np.dtype([\n",
        "    ('patient_id', 'i4'),\n",
        "    ('name', 'U30'),\n",
        "    ('age', int),\n",
        "    ('gender', 'U10'),\n",
        "    ('admission_date', 'U20')\n",
        "])\n",
        "\n",
        "doctor_dtype = np.dtype([\n",
        "    ('doctor_id', 'i4'),\n",
        "    ('name', 'U30'),\n",
        "    ('specialty', 'U30'),\n",
        "    ('availability', 'bool')\n",
        "])\n",
        "\n",
        "patients = np.array([], dtype=patient_dtype)\n",
        "doctors = np.array([], dtype=doctor_dtype)\n",
        "\n",
        "patient_data = [\n",
        "    (1, 'John Doe', 35, 'Male', '2023-09-16'),\n",
        "    (2, 'Jane Smith', 45, 'Female', '2023-09-17'),\n",
        "    (3, 'Smith', 25, 'male', '2023-09-20'),\n",
        "    (4, 'Alex', 23, 'male', '2023-09-28'),\n",
        "    (5, 'Henry', 24, 'male', '2023-09-28'),\n",
        "]\n",
        "\n",
        "doctor_data = [\n",
        "    (101, 'Dr. Smith', 'Cardiology', True),\n",
        "    (102, 'Dr. Johnson', 'Pediatrics', False),\n",
        "    (103, 'Dr. James', 'Pediatrics', True),\n",
        "    (104, 'Dr. Hardvard', 'Pediatrics', True),\n",
        "    (105, 'Dr. Mary', 'Pediatrics', False),\n",
        "]\n",
        "\n",
        "patients = np.append(patients, np.array(patient_data, dtype=patient_dtype))\n",
        "doctors = np.append(doctors, np.array(doctor_data, dtype=doctor_dtype))\n",
        "\n",
        "print(\"Patients:\")\n",
        "print(patients)\n",
        "print(\"\\nDoctors:\")\n",
        "print(doctors)"
      ],
      "metadata": {
        "colab": {
          "base_uri": "https://localhost:8080/"
        },
        "id": "_wTac9j1f0Fj",
        "outputId": "0d85786d-b09b-4600-ffbc-789d0743dabb"
      },
      "execution_count": 30,
      "outputs": [
        {
          "output_type": "stream",
          "name": "stdout",
          "text": [
            "Patients:\n",
            "[(1, 'John Doe', 35, 'Male', '2023-09-16')\n",
            " (2, 'Jane Smith', 45, 'Female', '2023-09-17')\n",
            " (3, 'Smith', 25, 'male', '2023-09-20')\n",
            " (4, 'Alex', 23, 'male', '2023-09-28')\n",
            " (5, 'Henry', 24, 'male', '2023-09-28')]\n",
            "\n",
            "Doctors:\n",
            "[(101, 'Dr. Smith', 'Cardiology',  True)\n",
            " (102, 'Dr. Johnson', 'Pediatrics', False)\n",
            " (103, 'Dr. James', 'Pediatrics',  True)\n",
            " (104, 'Dr. Hardvard', 'Pediatrics',  True)\n",
            " (105, 'Dr. Mary', 'Pediatrics', False)]\n"
          ]
        }
      ]
    },
    {
      "cell_type": "code",
      "source": [
        "#Create Data frame using List and Dictionary\n",
        "\n",
        "import pandas as pd\n",
        "\n",
        "dataframe = [\n",
        "    {'Name': 'Alex', 'Age': 24, 'Gender': 'Male'},\n",
        "     {'Name': 'Bob', 'Age': 22, 'Gender': 'Male'},\n",
        "      {'Name': 'Henry', 'Age': 24, 'Gender': 'Male'},\n",
        "       {'Name': 'Jane', 'Age': 27, 'Gender': 'Female'},\n",
        "        {'Name': 'Mary', 'Age': 25, 'Gender': 'Female'}\n",
        "]\n",
        "df = pd.DataFrame(dataframe)\n",
        "print(\"DataFrame are: \")\n",
        "print(df)"
      ],
      "metadata": {
        "colab": {
          "base_uri": "https://localhost:8080/"
        },
        "id": "k5qECGhxismO",
        "outputId": "3509f269-b5df-4f52-8df2-39956df66360"
      },
      "execution_count": 34,
      "outputs": [
        {
          "output_type": "stream",
          "name": "stdout",
          "text": [
            "DataFrame are: \n",
            "    Name  Age  Gender\n",
            "0   Alex   24    Male\n",
            "1    Bob   22    Male\n",
            "2  Henry   24    Male\n",
            "3   Jane   27  Female\n",
            "4   Mary   25  Female\n"
          ]
        }
      ]
    },
    {
      "cell_type": "code",
      "source": [
        "'''Create Data frame on your Domain area and perform the following operations to find and eliminate the\n",
        "missing data from the dataset'''\n",
        "\n",
        "import pandas as pd\n",
        "import numpy as np\n",
        "dataframe = [\n",
        "    {'Name': 'Alex', 'Age': np.nan, 'Gender': 'Male'},\n",
        "     {'Name': 'Bob', 'Age': 22, 'Gender': np.nan},\n",
        "      {'Name': 'Henry', 'Age': 24, 'Gender': np.nan},\n",
        "       {'Name': 'Jane', 'Age': np.nan, 'Gender': 'Female'},\n",
        "        {'Name': 'Mary', 'Age': 25, 'Gender': 'Female'}\n",
        "]\n",
        "df = pd.DataFrame(dataframe)\n",
        "print(\"The dataframes are: \")\n",
        "print(df)\n",
        "\n",
        "print(\"\\nBy using the isnull(): \")\n",
        "print(df.isnull())\n",
        "\n",
        "print(\"\\By using the notnull(): \")\n",
        "print(df.notnull())\n",
        "\n",
        "df_dropp = df.dropna()\n",
        "print(\"\\nBy using dropna():\")\n",
        "print(df_dropp)\n",
        "\n",
        "df_fille = df.fillna({'Age': df['Age'].mean()})\n",
        "print(\"\\nBy using fillna():\")\n",
        "print(df_fille)\n",
        "\n",
        "df_replaced = df.replace({'Alex': 'Alexlader', 'Henry': 'Price'})\n",
        "print(\"\\nBy using replace():\")\n",
        "print(df_replaced)\n",
        "\n",
        "df = df.infer_objects()\n",
        "df_interpolated = df.interpolate()\n",
        "print(\"\\nBy using interpolate(): \")\n",
        "print(df_interpolated)"
      ],
      "metadata": {
        "colab": {
          "base_uri": "https://localhost:8080/"
        },
        "id": "xDj0ccRLj2gp",
        "outputId": "9ecb62c6-c352-4316-9bde-7a97149f8ba1"
      },
      "execution_count": 41,
      "outputs": [
        {
          "output_type": "stream",
          "name": "stdout",
          "text": [
            "The dataframes are: \n",
            "    Name   Age  Gender\n",
            "0   Alex   NaN    Male\n",
            "1    Bob  22.0     NaN\n",
            "2  Henry  24.0     NaN\n",
            "3   Jane   NaN  Female\n",
            "4   Mary  25.0  Female\n",
            "\n",
            "By using the isnull(): \n",
            "    Name    Age  Gender\n",
            "0  False   True   False\n",
            "1  False  False    True\n",
            "2  False  False    True\n",
            "3  False   True   False\n",
            "4  False  False   False\n",
            "\\By using the notnull(): \n",
            "   Name    Age  Gender\n",
            "0  True  False    True\n",
            "1  True   True   False\n",
            "2  True   True   False\n",
            "3  True  False    True\n",
            "4  True   True    True\n",
            "\n",
            "By using dropna():\n",
            "   Name   Age  Gender\n",
            "4  Mary  25.0  Female\n",
            "\n",
            "By using fillna():\n",
            "    Name        Age  Gender\n",
            "0   Alex  23.666667    Male\n",
            "1    Bob  22.000000     NaN\n",
            "2  Henry  24.000000     NaN\n",
            "3   Jane  23.666667  Female\n",
            "4   Mary  25.000000  Female\n",
            "\n",
            "By using replace():\n",
            "        Name   Age  Gender\n",
            "0  Alexlader   NaN    Male\n",
            "1        Bob  22.0     NaN\n",
            "2      Price  24.0     NaN\n",
            "3       Jane   NaN  Female\n",
            "4       Mary  25.0  Female\n",
            "\n",
            "By using interpolate(): \n",
            "    Name   Age  Gender\n",
            "0   Alex   NaN    Male\n",
            "1    Bob  22.0     NaN\n",
            "2  Henry  24.0     NaN\n",
            "3   Jane  24.5  Female\n",
            "4   Mary  25.0  Female\n"
          ]
        }
      ]
    },
    {
      "cell_type": "code",
      "source": [
        "#Perform the Hierarchical Indexing in the above created dataset\n",
        "\n",
        "import pandas as pd\n",
        "import numpy as np\n",
        "\n",
        "dataframe = [\n",
        "    {'Name': 'Alex', 'Age': np.nan, 'Gender': 'Male'},\n",
        "     {'Name': 'Bob', 'Age': 22, 'Gender': np.nan},\n",
        "      {'Name': 'Henry', 'Age': 24, 'Gender': np.nan},\n",
        "       {'Name': 'Jane', 'Age': np.nan, 'Gender': 'Female'},\n",
        "        {'Name': 'Mary', 'Age': 25, 'Gender': 'Female'}\n",
        "]\n",
        "df = pd.DataFrame(dataframe)\n",
        "df['Hospital'] = ['Fortis', 'Aster', 'Jaydev', 'Ramaiah', 'Apollo']\n",
        "\n",
        "df.set_index(['Hospital', 'Name'], inplace=True)\n",
        "\n",
        "print(\"Dataframe after Hierarchical Indexing\")\n",
        "print(df)\n"
      ],
      "metadata": {
        "colab": {
          "base_uri": "https://localhost:8080/"
        },
        "id": "R9F7C-vNlAgu",
        "outputId": "417266b4-1a2c-4d98-c0b8-fb176ac0ffc0"
      },
      "execution_count": 45,
      "outputs": [
        {
          "output_type": "stream",
          "name": "stdout",
          "text": [
            "Dataframe after Hierarchical Indexing\n",
            "                 Age  Gender\n",
            "Hospital Name               \n",
            "Fortis   Alex    NaN    Male\n",
            "Aster    Bob    22.0     NaN\n",
            "Jaydev   Henry  24.0     NaN\n",
            "Ramaiah  Jane    NaN  Female\n",
            "Apollo   Mary   25.0  Female\n"
          ]
        }
      ]
    }
  ]
}