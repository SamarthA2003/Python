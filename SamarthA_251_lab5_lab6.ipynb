{
 "cells": [
  {
   "cell_type": "code",
   "execution_count": 7,
   "metadata": {},
   "outputs": [
    {
     "name": "stdout",
     "output_type": "stream",
     "text": [
      "5.0\n",
      "The Error is:  division by zero\n",
      "None\n"
     ]
    }
   ],
   "source": [
    "#Write a program to handle the exception of ZeroDivisionError.\n",
    "def divide(x,y):\n",
    "    try:\n",
    "        return x / y\n",
    "    except Exception as e:\n",
    "        print(\"The Error is: \",e)\n",
    "print(divide(25,5))\n",
    "print(divide(20,0))"
   ]
  },
  {
   "cell_type": "code",
   "execution_count": 3,
   "metadata": {},
   "outputs": [
    {
     "name": "stdout",
     "output_type": "stream",
     "text": [
      "The error is :  list index out of range\n"
     ]
    },
    {
     "data": {
      "text/plain": [
       "6"
      ]
     },
     "execution_count": 3,
     "metadata": {},
     "output_type": "execute_result"
    }
   ],
   "source": [
    "#Write a program to handle the exception of IndexError.\n",
    "def print_list(list, index):\n",
    "    try:\n",
    "        return list[index]\n",
    "    except IndexError as e:\n",
    "        print(\"The error is : \",e)\n",
    "list = [1,2,3,4,5,6,7,8,9,10]\n",
    "print_list(list,14)\n",
    "print_list(list,5)"
   ]
  },
  {
   "cell_type": "code",
   "execution_count": 17,
   "metadata": {},
   "outputs": [
    {
     "name": "stdout",
     "output_type": "stream",
     "text": [
      "The number is Valid\n"
     ]
    }
   ],
   "source": [
    "'''Write a program using the Regular Exception and create a function that accepts a string and searches it for a valid phone number.\n",
    "Return the phone number if found.\n",
    "A valid phone number may be one of the following:\n",
    "(xxx)-xxx-xxxx\n",
    "xxx-xxx-xxxx\n",
    "'''\n",
    "import re\n",
    "def find_phone_number(num):\n",
    "    Pattern = re.search(r\"[0-9]{3}\\-[0-9]{3}\\-[0-9]{4}\",num)\n",
    "    return Pattern\n",
    "num = \"917-654-3219\"\n",
    "if(find_phone_number(num)):\n",
    "    print(\"The number is Valid\")\n",
    "else:\n",
    "    print(\"The number is Invalid\")"
   ]
  },
  {
   "cell_type": "code",
   "execution_count": 22,
   "metadata": {},
   "outputs": [
    {
     "name": "stdout",
     "output_type": "stream",
     "text": [
      "The password is strong\n"
     ]
    }
   ],
   "source": [
    "'''Write a function that employs regular expressions to ensure the password given to the function is strong.\n",
    "A strong password is defined as follows:\n",
    "·       at least eight characters long\n",
    "·       contains one uppercase character\n",
    "·       contains one lowercase character\n",
    "·       has at least one digit\n",
    "·       has at least one special character\n",
    "[For instance: Christ@123]\n",
    "'''\n",
    "import re\n",
    "def validPassword(password):\n",
    "    password_reg = re.compile(r\"^(?=.*[a-z])(?=.*[A-Z])(?=.*\\d)(?=.*[@$!%*?&])[A-Za-z\\d@$!%*?&]{8,}$\")\n",
    "    return password_reg.match(password)\n",
    "password = \"Sama@rth$1234\"\n",
    "if validPassword(password):\n",
    "    print(\"The password is strong\")\n",
    "else:\n",
    "    print(\"The password is not strong\")\n"
   ]
  }
 ],
 "metadata": {
  "kernelspec": {
   "display_name": "Python 3",
   "language": "python",
   "name": "python3"
  },
  "language_info": {
   "codemirror_mode": {
    "name": "ipython",
    "version": 3
   },
   "file_extension": ".py",
   "mimetype": "text/x-python",
   "name": "python",
   "nbconvert_exporter": "python",
   "pygments_lexer": "ipython3",
   "version": "3.11.1"
  },
  "orig_nbformat": 4
 },
 "nbformat": 4,
 "nbformat_minor": 2
}
